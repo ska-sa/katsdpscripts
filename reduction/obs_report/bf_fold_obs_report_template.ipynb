{
 "cells": [
  {
   "cell_type": "markdown",
   "metadata": {},
   "source": [
    "# PTUSE observation report"
   ]
  },
  {
   "cell_type": "code",
   "execution_count": null,
   "metadata": {},
   "outputs": [],
   "source": [
    "print 'Report Started:'\n",
    "!date"
   ]
  },
  {
   "cell_type": "markdown",
   "metadata": {},
   "source": [
    "## Load Useful functions"
   ]
  },
  {
   "cell_type": "code",
   "execution_count": null,
   "metadata": {},
   "outputs": [],
   "source": [
    "run ptuse_report_useful_functions.py"
   ]
  },
  {
   "cell_type": "markdown",
   "metadata": {},
   "source": [
    "## Files to be processed"
   ]
  },
  {
   "cell_type": "code",
   "execution_count": null,
   "metadata": {},
   "outputs": [],
   "source": [
    "directory = '/kat/isabella/timing/PTUSE_1_20180417074239_J0437m4715/'"
   ]
  },
  {
   "cell_type": "markdown",
   "metadata": {},
   "source": [
    "## Set up environment"
   ]
  },
  {
   "cell_type": "code",
   "execution_count": null,
   "metadata": {},
   "outputs": [],
   "source": [
    "import os\n",
    "import sys\n",
    "import numpy as np\n",
    "from matplotlib import cm\n",
    "from matplotlib import colors\n",
    "import psrchive as psr\n",
    "# from coast_guard import cleaners\n",
    "import time\n",
    "from astropy.table import Table\n",
    "import subprocess"
   ]
  },
  {
   "cell_type": "code",
   "execution_count": null,
   "metadata": {},
   "outputs": [],
   "source": [
    "%pylab inline"
   ]
  },
  {
   "cell_type": "markdown",
   "metadata": {},
   "source": [
    "## Load data"
   ]
  },
  {
   "cell_type": "code",
   "execution_count": null,
   "metadata": {},
   "outputs": [],
   "source": [
    "# load and add archive files\n",
    "archives = load_archive_data(path=directory, verbose=True)"
   ]
  },
  {
   "cell_type": "markdown",
   "metadata": {},
   "source": [
    "## Display metadata"
   ]
  },
  {
   "cell_type": "code",
   "execution_count": null,
   "metadata": {},
   "outputs": [],
   "source": [
    "nbin = archives[0].get_nbin()\n",
    "nchan = archives[0].get_nchan()\n",
    "npol = archives[0].get_npol()\n",
    "nsubint = archives[0].get_nsubint()\n",
    "obs_type = archives[0].get_type()\n",
    "telescope_name = archives[0].get_telescope()\n",
    "source_name = archives[0].get_source()\n",
    "ra = archives[0].get_coordinates().ra()\n",
    "dec = archives[0].get_coordinates().dec()\n",
    "centre_frequency = archives[0].get_centre_frequency()\n",
    "bandwidth = archives[0].get_bandwidth()\n",
    "dm = archives[0].get_dispersion_measure()\n",
    "rm = archives[0].get_rotation_measure()\n",
    "is_dedispersed = archives[0].get_dedispersed()\n",
    "is_faraday_rotated = archives[0].get_faraday_corrected()\n",
    "is_pol_calib = archives[0].get_poln_calibrated()\n",
    "data_units = archives[0].get_scale()\n",
    "data_state = archives[0].get_state()\n",
    "obs_duration = archives[0].integration_length()\n",
    "receiver_name = archives[0].get_receiver_name()\n",
    "receptor_basis = archives[0].get_basis()\n",
    "backend_name = archives[0].get_backend_name()\n",
    "low_freq = archives[0].get_centre_frequency() - archives[0].get_bandwidth() / 2.0\n",
    "high_freq = archives[0].get_centre_frequency() + archives[0].get_bandwidth() / 2.0\n",
    "subint_duration = np.rint(archives[0].get_Integration(1).get_duration())"
   ]
  },
  {
   "cell_type": "code",
   "execution_count": null,
   "metadata": {
    "scrolled": false
   },
   "outputs": [],
   "source": [
    "print_metadata(archive=archives[0])"
   ]
  },
  {
   "cell_type": "markdown",
   "metadata": {},
   "source": [
    "## Clean archive, display RFI stats and RFI mask"
   ]
  },
  {
   "cell_type": "code",
   "execution_count": null,
   "metadata": {},
   "outputs": [],
   "source": [
    "# Run coast_guard RFI cleaning routines\n",
    "clean_rfi = archives[0].clone()\n",
    "clean_archive_surgical(clean_rfi, chan_numpieces=1, subint_numpieces=1, chan_threshold=3, subint_threshold=3)\n",
    "clean_archive_rcvrstd(clean_rfi)\n",
    "clean_archive_bandwagon(clean_rfi)"
   ]
  },
  {
   "cell_type": "code",
   "execution_count": null,
   "metadata": {},
   "outputs": [],
   "source": [
    "weights = clean_rfi.get_weights()\n",
    "plot_mask_channels(weights, low_freq, high_freq, nchan, nsubint, target=source_name)"
   ]
  },
  {
   "cell_type": "code",
   "execution_count": null,
   "metadata": {},
   "outputs": [],
   "source": [
    "print_zero_weight_statistics(weights, nchan, nsubint)"
   ]
  },
  {
   "cell_type": "markdown",
   "metadata": {},
   "source": [
    "## Plot subintegration stacks (Coherency data) & average profiles (Stokes data)"
   ]
  },
  {
   "cell_type": "code",
   "execution_count": null,
   "metadata": {},
   "outputs": [],
   "source": [
    "clean_profile_data = prepare_profile_data(clean_rfi)\n",
    "dirty_profile_data = prepare_profile_data(archives[0])"
   ]
  },
  {
   "cell_type": "code",
   "execution_count": null,
   "metadata": {},
   "outputs": [],
   "source": [
    "dirty_stack_data = prepare_subint_data(archives=archives[0])"
   ]
  },
  {
   "cell_type": "code",
   "execution_count": null,
   "metadata": {},
   "outputs": [],
   "source": [
    "clean_stack_data = prepare_subint_data(archives=clean_rfi)"
   ]
  },
  {
   "cell_type": "code",
   "execution_count": null,
   "metadata": {},
   "outputs": [],
   "source": [
    "fig, ax, clean_stack, clean_profile, unclean_stack, unclean_profile = create_subint_profile_figure(fig_title='Sub-intergration stack')\n",
    "plot_stokes_profiles(clean_profile_data, source_name, ax=clean_profile, nbin=nbin, label='Clean data')\n",
    "plot_stokes_profiles(dirty_profile_data, source_name, ax=unclean_profile, nbin=nbin, label='Unclean data')\n",
    "plot_sub_intergration_stack(dirty_stack_data, ax=unclean_stack, title=False, nbin=nbin, nsubint=nsubint, obs_duration=obs_duration)\n",
    "plot_sub_intergration_stack(clean_stack_data, ax=clean_stack, title=False, nbin=nbin, nsubint=nsubint, obs_duration=obs_duration)\n",
    "set_phase_label(ax=clean_stack)\n",
    "set_phase_label(ax=unclean_stack)\n",
    "set_subint_time_label(ax=clean_stack, intergration=obs_duration)\n",
    "set_subint_time_label(ax=unclean_stack, intergration=obs_duration)\n",
    "clean_stack.set_ylabel('Subint number')\n",
    "unclean_stack.set_ylabel('Subint number')"
   ]
  },
  {
   "cell_type": "markdown",
   "metadata": {},
   "source": [
    "## Plot phase vs. frequency image of flux (clean Coherency data)"
   ]
  },
  {
   "cell_type": "code",
   "execution_count": null,
   "metadata": {},
   "outputs": [],
   "source": [
    "#coherency_flux_phase_data = prepare_coherency_flux_data(archives[0])\n",
    "coherency_flux_phase_data = prepare_coherency_flux_data(clean_rfi)"
   ]
  },
  {
   "cell_type": "code",
   "execution_count": null,
   "metadata": {},
   "outputs": [],
   "source": [
    "fig, ax = plt.subplots(2, 2, sharex='col', sharey='row', figsize=[15, 10], tight_layout='true')\n",
    "fig.suptitle(source_name, fontsize='large', y=1.015)\n",
    "fig.text(0.05, 1.0, 'Clean coherency data', fontsize='large')\n",
    "ax[0, 0].set_ylabel('Frequency (MHz)')\n",
    "ax[1, 0].set_ylabel('Frequency (MHz)')\n",
    "ax[1, 0].set_xlabel('Pulse phase (bin)')\n",
    "ax[1, 1].set_xlabel('Pulse phase (bin)')\n",
    "plot_phase_freq_flux(coherency_flux_phase_data[0, :, :], ax=ax[0, 0], title='XX', low_freq=low_freq, high_freq=high_freq, nbin=nbin, nchan=nchan)\n",
    "plot_phase_freq_flux(coherency_flux_phase_data[1, :, :], ax=ax[0, 1], title='YY', low_freq=low_freq, high_freq=high_freq, nbin=nbin, nchan=nchan)\n",
    "plot_phase_freq_flux(coherency_flux_phase_data[2, :, :], ax=ax[1, 0], title='Re(XY)', low_freq=low_freq, high_freq=high_freq, nbin=nbin, nchan=nchan)\n",
    "plot_phase_freq_flux(coherency_flux_phase_data[3, :, :], ax=ax[1, 1], title='Im(XY)', low_freq=low_freq, high_freq=high_freq, nbin=nbin, nchan=nchan)\n",
    "set_phase_label(ax[1, 0])\n",
    "set_phase_label(ax[1, 1])\n",
    "set_channel_label(ax[1, 1], nchan)\n",
    "set_channel_label(ax[0, 1], nchan)"
   ]
  },
  {
   "cell_type": "markdown",
   "metadata": {},
   "source": [
    "## Plot phase vs. frequency image of flux (clean Stokes data)"
   ]
  },
  {
   "cell_type": "code",
   "execution_count": null,
   "metadata": {},
   "outputs": [],
   "source": [
    "stokes_flux_phase_data = prepare_sokes_phase_freq(clean_rfi)"
   ]
  },
  {
   "cell_type": "code",
   "execution_count": null,
   "metadata": {},
   "outputs": [],
   "source": [
    "fig, ax = plt.subplots(2, 2, sharex='col', sharey='row', figsize=[15, 10], tight_layout='true')\n",
    "fig.suptitle(source_name, fontsize='large', y=1.01)\n",
    "fig.text(0.05, 1.0, 'Clean stokes data', fontsize='large')\n",
    "ax[0, 0].set_ylabel('Frequency (MHz)')\n",
    "ax[1, 0].set_ylabel('Frequency (MHz)')\n",
    "ax[1, 0].set_xlabel('Pulse phase (bin)')\n",
    "ax[1, 1].set_xlabel('Pulse phase (bin)')\n",
    "plot_phase_freq_flux(stokes_flux_phase_data[0, :, :], ax=ax[0, 0], title='I', low_freq=low_freq, high_freq=high_freq, nbin=nbin, nchan=nchan)\n",
    "plot_phase_freq_flux(stokes_flux_phase_data[1, :, :], ax=ax[0, 1], title='Q', low_freq=low_freq, high_freq=high_freq, nbin=nbin, nchan=nchan)\n",
    "plot_phase_freq_flux(stokes_flux_phase_data[2, :, :], ax=ax[1, 0], title='U', low_freq=low_freq, high_freq=high_freq, nbin=nbin, nchan=nchan)\n",
    "plot_phase_freq_flux(stokes_flux_phase_data[3, :, :], ax=ax[1, 1], title='V', low_freq=low_freq, high_freq=high_freq, nbin=nbin, nchan=nchan)\n",
    "set_phase_label(ax[1, 0])\n",
    "set_phase_label(ax[1, 1])\n",
    "set_channel_label(ax[1, 1], nchan)\n",
    "set_channel_label(ax[0, 1], nchan)"
   ]
  },
  {
   "cell_type": "markdown",
   "metadata": {},
   "source": [
    "## Plot bandpass (unclean and clean Stokes data)"
   ]
  },
  {
   "cell_type": "code",
   "execution_count": null,
   "metadata": {},
   "outputs": [],
   "source": [
    "dirty_mean_bandpass, dirty_variance_bandpass = get_mean_bandpass(archive=archives[0], stokes=False)\n",
    "dirty_stokes_mean_bandpass, dirty_stokes_variance_bandpass = get_mean_bandpass(archive=archives[0], stokes=True)"
   ]
  },
  {
   "cell_type": "code",
   "execution_count": null,
   "metadata": {},
   "outputs": [],
   "source": [
    "clean_mean_bandpass, clean_variance_bandpass = get_mean_bandpass(archive=clean_rfi, stokes=False)\n",
    "clean_stokes_mean_bandpass, clean_stokes_variance_bandpass = get_mean_bandpass(archive=clean_rfi, stokes=True)"
   ]
  },
  {
   "cell_type": "code",
   "execution_count": null,
   "metadata": {},
   "outputs": [],
   "source": [
    "fig, ax = plt.subplots(2, 1, sharex='col', figsize=[15, 10], tight_layout='true')\n",
    "set_bandpass_plot_label(dirty_mean_bandpass, target=source_name, title='Unclean data', ax=ax[0], nchan=nchan, logscale=True)\n",
    "if np.max(dirty_mean_bandpass[1, :]) > np.max(dirty_mean_bandpass[0, :]):\n",
    "    ax[0].plot(dirty_mean_bandpass[1, :], label='YY')\n",
    "    ax[0].plot(dirty_mean_bandpass[0, :], label='XX')\n",
    "else:\n",
    "    ax[0].plot(dirty_mean_bandpass[0, :], label='XX')\n",
    "    ax[0].plot(dirty_mean_bandpass[1, :], label='YY')\n",
    "ax[0].plot(dirty_stokes_mean_bandpass[0, :], label='Stokes I')    \n",
    "ax[0].fill_between(x=np.linspace(0, np.shape(dirty_mean_bandpass[0, :]), num=len(dirty_mean_bandpass[0, :]), endpoint=True),\n",
    "                   y1=dirty_mean_bandpass[1, :].min(), y2=dirty_mean_bandpass[1, :].max(),\n",
    "                   where=(clean_mean_bandpass[0, :] == 0.0), alpha=0.5, color='grey')\n",
    "ax[0].set_ylim(dirty_mean_bandpass[1, :].min(), dirty_mean_bandpass[1, :].max())\n",
    "ax[0].legend()\n",
    "\n",
    "# Plot the clean bandpass:\n",
    "set_freq_label(ax[1], low_freq, high_freq, pos='xaxis')\n",
    "set_bandpass_plot_label(clean_mean_bandpass, source_name, 'Clean data', ax[1], nchan, logscale=True)\n",
    "clean_mean_bandpass[clean_mean_bandpass == 0.0] = np.nan\n",
    "if np.max(clean_mean_bandpass[1, :]) > np.max(clean_mean_bandpass[0, :]):\n",
    "    ax[1].plot(clean_mean_bandpass[1, :], label='YY')\n",
    "    ax[1].plot(clean_mean_bandpass[0, :], label='XX')\n",
    "else:\n",
    "    ax[1].plot(clean_mean_bandpass[0, :], label='XX')\n",
    "    ax[1].plot(clean_mean_bandpass[1, :], label='YY')\n",
    "ax[1].set_ylim(np.nanmin(dirty_mean_bandpass[1, :]), np.nanmax(dirty_stokes_mean_bandpass[0, :]))   \n",
    "clean_stokes_mean_bandpass[clean_stokes_mean_bandpass == 0.0] = np.nan    \n",
    "ax[1].plot(clean_stokes_mean_bandpass[0, :], label='Stokes I')    \n",
    "ax[1].legend()"
   ]
  },
  {
   "cell_type": "markdown",
   "metadata": {},
   "source": [
    "## Plot dynamic baseline spectrum (unclean Coherency data)"
   ]
  },
  {
   "cell_type": "code",
   "execution_count": null,
   "metadata": {},
   "outputs": [],
   "source": [
    "unclean_mean_spectrum, unclean_varience_spectrum = get_baseline_spectrum(archives[0], npol, nchan, nsubint)\n",
    "clean_mean_spectrum, clean_variance_spectrum = get_baseline_spectrum(clean_rfi, npol, nchan, nsubint, stokes=True)"
   ]
  },
  {
   "cell_type": "code",
   "execution_count": null,
   "metadata": {},
   "outputs": [],
   "source": [
    "fig, ax = plt.subplots(2, 2, sharex='col', sharey='row', figsize=[15, 10], tight_layout='true')\n",
    "fig.suptitle(source_name, fontsize='large', y=1.01)\n",
    "fig.text(0.05, 1.0, 'Unclean data', fontsize='large')\n",
    "\n",
    "ax[0, 0].set_ylabel('Channel number')\n",
    "ax[1, 0].set_ylabel('Channel number')\n",
    "ax[1, 0].set_xlabel('Subint number')\n",
    "ax[1, 1].set_xlabel('Subint number')\n",
    "\n",
    "mean_xx_min = unclean_mean_spectrum[:, 0, :].min()\n",
    "mean_xx_max = unclean_mean_spectrum[:, 0, :].max()\n",
    "mean_yy_min = unclean_mean_spectrum[:, 1, :].min()\n",
    "mean_yy_max = unclean_mean_spectrum[:, 1, :].max()\n",
    "mean_re_xy_min = unclean_mean_spectrum[:, 2, :].min()\n",
    "mean_re_xy_max = unclean_mean_spectrum[:, 2, :].max()\n",
    "mean_im_xy_min = unclean_mean_spectrum[:, 3, :].min()\n",
    "mean_im_xy_max = unclean_mean_spectrum[:, 3, :].max()\n",
    "\n",
    "plot_dynamic_spectrum(unclean_mean_spectrum[:, 0, :], ax[0, 0], 'XX', low_freq, high_freq, nbin, nchan, \n",
    "                      mean_xx_min, mean_xx_max, clean_data=False)\n",
    "plot_dynamic_spectrum(unclean_mean_spectrum[:, 1, :], ax[0, 1], 'YY', low_freq, high_freq, nbin, nchan,\n",
    "                      mean_yy_min, mean_yy_max, clean_data=False)\n",
    "plot_dynamic_spectrum(unclean_mean_spectrum[:, 2, :], ax[1, 0], 'Re(XY)', low_freq, high_freq, nbin, nchan,\n",
    "                      mean_re_xy_min, mean_re_xy_max, clean_data=False)\n",
    "plot_dynamic_spectrum(unclean_mean_spectrum[:, 3, :], ax[1, 1], 'Im(XY)', low_freq, high_freq, nbin, nchan, \n",
    "                      mean_im_xy_min, mean_im_xy_max, clean_data=False)\n",
    "\n",
    "\n"
   ]
  },
  {
   "cell_type": "markdown",
   "metadata": {},
   "source": [
    "## Plot dynamic baseline spectrum (clean Stokes data)"
   ]
  },
  {
   "cell_type": "code",
   "execution_count": null,
   "metadata": {},
   "outputs": [],
   "source": [
    "fig, ax = plt.subplots(2, 2, sharex='col', sharey='row', figsize=[15, 10], tight_layout='true')\n",
    "fig.suptitle(source_name, fontsize='large', y=1.01)\n",
    "fig.text(0.05, 1.0, 'Clean data', fontsize='large')\n",
    "\n",
    "variance_xx_min = clean_variance_spectrum[:, 0, :].min()\n",
    "variance_xx_max = clean_variance_spectrum[:, 0, :].max()\n",
    "variance_yy_min = clean_variance_spectrum[:, 1, :].min()\n",
    "variance_yy_max = clean_variance_spectrum[:, 1, :].max()\n",
    "variance_re_xy_min = clean_variance_spectrum[:, 2, :].min()\n",
    "variance_re_xy_max = clean_variance_spectrum[:, 2, :].max()\n",
    "variance_im_xy_min = clean_variance_spectrum[:, 3, :].min()\n",
    "variance_im_xy_max = clean_variance_spectrum[:, 3, :].max()\n",
    "\n",
    "plot_dynamic_spectrum(clean_variance_spectrum[:, 0, :], ax[0, 0], 'I', low_freq, high_freq, nbin, nchan, \n",
    "                      variance_xx_min, variance_xx_max, clean_data=True)\n",
    "plot_dynamic_spectrum(clean_variance_spectrum[:, 1, :], ax[0, 1], 'Q', low_freq, high_freq, nbin, nchan,\n",
    "                      variance_yy_min, variance_yy_max, clean_data=True)\n",
    "plot_dynamic_spectrum(clean_variance_spectrum[:, 2, :], ax[1, 0], 'U', low_freq, high_freq, nbin, nchan,\n",
    "                      variance_re_xy_min, variance_re_xy_max, clean_data=True)\n",
    "plot_dynamic_spectrum(clean_variance_spectrum[:, 3, :], ax[1, 1], 'V', low_freq, high_freq, nbin, nchan, \n",
    "                      variance_im_xy_min, variance_im_xy_max, clean_data=True)"
   ]
  },
  {
   "cell_type": "markdown",
   "metadata": {},
   "source": [
    "## Plot signal-to-noise ratio vs. subintegration (clean Coherency data)"
   ]
  },
  {
   "cell_type": "code",
   "execution_count": null,
   "metadata": {},
   "outputs": [],
   "source": [
    "snr_data = get_subint_snr(clean_rfi, nsubint)"
   ]
  },
  {
   "cell_type": "code",
   "execution_count": null,
   "metadata": {},
   "outputs": [],
   "source": [
    "fig, ax1 = plt.subplots(1, 1, sharex='col', sharey='row', figsize=[15, 5], tight_layout='true')\n",
    "fig.suptitle(source_name, fontsize='large', y=1.01)\n",
    "fig.text(0.05, 1.0, 'Clean data', fontsize='large')\n",
    "ax1.set_xlabel('Subint number')\n",
    "ax1.set_ylabel('Signal-to-noise ratio')\n",
    "ax1.set_xlim(0, nsubint)\n",
    "ax1_secondary = ax1.twiny()\n",
    "ax1_secondary.set_frame_on(True)\n",
    "ax1_secondary.patch.set_visible(False)\n",
    "ax1_secondary.xaxis.set_ticks_position('bottom')\n",
    "ax1_secondary.set_xlabel('Time (seconds)')\n",
    "ax1_secondary.xaxis.set_label_position('bottom')\n",
    "ax1_secondary.spines['bottom'].set_position(('outward', 50))\n",
    "ax1_secondary.set_xlim(0, obs_duration)\n",
    "ax1.plot(snr_data)"
   ]
  },
  {
   "cell_type": "code",
   "execution_count": null,
   "metadata": {},
   "outputs": [],
   "source": [
    "print 'Report Ended:'\n",
    "!date"
   ]
  }
 ],
 "metadata": {
  "kernelspec": {
   "display_name": "Python 2",
   "language": "python",
   "name": "python2"
  },
  "language_info": {
   "codemirror_mode": {
    "name": "ipython",
    "version": 2
   },
   "file_extension": ".py",
   "mimetype": "text/x-python",
   "name": "python",
   "nbconvert_exporter": "python",
   "pygments_lexer": "ipython2",
   "version": "2.7.12"
  }
 },
 "nbformat": 4,
 "nbformat_minor": 1
}
